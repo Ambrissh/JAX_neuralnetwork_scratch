{
  "nbformat": 4,
  "nbformat_minor": 0,
  "metadata": {
    "colab": {
      "provenance": [],
      "authorship_tag": "ABX9TyOoqeikoYHZV0VgTHu182wz",
      "include_colab_link": true
    },
    "kernelspec": {
      "name": "python3",
      "display_name": "Python 3"
    },
    "language_info": {
      "name": "python"
    }
  },
  "cells": [
    {
      "cell_type": "markdown",
      "metadata": {
        "id": "view-in-github",
        "colab_type": "text"
      },
      "source": [
        "<a href=\"https://colab.research.google.com/github/Ambrissh/JAX_neuralnetwork_scratch/blob/main/NeuralNetworkScratchJAX.ipynb\" target=\"_parent\"><img src=\"https://colab.research.google.com/assets/colab-badge.svg\" alt=\"Open In Colab\"/></a>"
      ]
    },
    {
      "cell_type": "code",
      "execution_count": 26,
      "metadata": {
        "id": "A-cls5UJ9Rm8"
      },
      "outputs": [],
      "source": [
        "import jax\n",
        "import jax.numpy as jnp\n",
        "import time\n",
        "\n",
        "from sklearn.datasets import load_iris\n",
        "from sklearn.model_selection import train_test_split\n",
        "from sklearn.preprocessing import StandardScaler,OneHotEncoder\n",
        "\n"
      ]
    },
    {
      "cell_type": "code",
      "source": [
        "data=load_iris()\n",
        "X=data.data\n",
        "y=data.target.reshape(-1,1)\n",
        "\n",
        "encoder=OneHotEncoder(sparse_output=False)\n",
        "y=encoder.fit_transform(y)\n",
        "\n",
        "print(y)\n",
        "\n"
      ],
      "metadata": {
        "colab": {
          "base_uri": "https://localhost:8080/"
        },
        "collapsed": true,
        "id": "i4Q0YQbx9_jT",
        "outputId": "5583b10f-7813-4a02-d0a5-26bd6077838b"
      },
      "execution_count": 9,
      "outputs": [
        {
          "output_type": "stream",
          "name": "stdout",
          "text": [
            "[[1. 0. 0.]\n",
            " [1. 0. 0.]\n",
            " [1. 0. 0.]\n",
            " [1. 0. 0.]\n",
            " [1. 0. 0.]\n",
            " [1. 0. 0.]\n",
            " [1. 0. 0.]\n",
            " [1. 0. 0.]\n",
            " [1. 0. 0.]\n",
            " [1. 0. 0.]\n",
            " [1. 0. 0.]\n",
            " [1. 0. 0.]\n",
            " [1. 0. 0.]\n",
            " [1. 0. 0.]\n",
            " [1. 0. 0.]\n",
            " [1. 0. 0.]\n",
            " [1. 0. 0.]\n",
            " [1. 0. 0.]\n",
            " [1. 0. 0.]\n",
            " [1. 0. 0.]\n",
            " [1. 0. 0.]\n",
            " [1. 0. 0.]\n",
            " [1. 0. 0.]\n",
            " [1. 0. 0.]\n",
            " [1. 0. 0.]\n",
            " [1. 0. 0.]\n",
            " [1. 0. 0.]\n",
            " [1. 0. 0.]\n",
            " [1. 0. 0.]\n",
            " [1. 0. 0.]\n",
            " [1. 0. 0.]\n",
            " [1. 0. 0.]\n",
            " [1. 0. 0.]\n",
            " [1. 0. 0.]\n",
            " [1. 0. 0.]\n",
            " [1. 0. 0.]\n",
            " [1. 0. 0.]\n",
            " [1. 0. 0.]\n",
            " [1. 0. 0.]\n",
            " [1. 0. 0.]\n",
            " [1. 0. 0.]\n",
            " [1. 0. 0.]\n",
            " [1. 0. 0.]\n",
            " [1. 0. 0.]\n",
            " [1. 0. 0.]\n",
            " [1. 0. 0.]\n",
            " [1. 0. 0.]\n",
            " [1. 0. 0.]\n",
            " [1. 0. 0.]\n",
            " [1. 0. 0.]\n",
            " [0. 1. 0.]\n",
            " [0. 1. 0.]\n",
            " [0. 1. 0.]\n",
            " [0. 1. 0.]\n",
            " [0. 1. 0.]\n",
            " [0. 1. 0.]\n",
            " [0. 1. 0.]\n",
            " [0. 1. 0.]\n",
            " [0. 1. 0.]\n",
            " [0. 1. 0.]\n",
            " [0. 1. 0.]\n",
            " [0. 1. 0.]\n",
            " [0. 1. 0.]\n",
            " [0. 1. 0.]\n",
            " [0. 1. 0.]\n",
            " [0. 1. 0.]\n",
            " [0. 1. 0.]\n",
            " [0. 1. 0.]\n",
            " [0. 1. 0.]\n",
            " [0. 1. 0.]\n",
            " [0. 1. 0.]\n",
            " [0. 1. 0.]\n",
            " [0. 1. 0.]\n",
            " [0. 1. 0.]\n",
            " [0. 1. 0.]\n",
            " [0. 1. 0.]\n",
            " [0. 1. 0.]\n",
            " [0. 1. 0.]\n",
            " [0. 1. 0.]\n",
            " [0. 1. 0.]\n",
            " [0. 1. 0.]\n",
            " [0. 1. 0.]\n",
            " [0. 1. 0.]\n",
            " [0. 1. 0.]\n",
            " [0. 1. 0.]\n",
            " [0. 1. 0.]\n",
            " [0. 1. 0.]\n",
            " [0. 1. 0.]\n",
            " [0. 1. 0.]\n",
            " [0. 1. 0.]\n",
            " [0. 1. 0.]\n",
            " [0. 1. 0.]\n",
            " [0. 1. 0.]\n",
            " [0. 1. 0.]\n",
            " [0. 1. 0.]\n",
            " [0. 1. 0.]\n",
            " [0. 1. 0.]\n",
            " [0. 1. 0.]\n",
            " [0. 1. 0.]\n",
            " [0. 1. 0.]\n",
            " [0. 0. 1.]\n",
            " [0. 0. 1.]\n",
            " [0. 0. 1.]\n",
            " [0. 0. 1.]\n",
            " [0. 0. 1.]\n",
            " [0. 0. 1.]\n",
            " [0. 0. 1.]\n",
            " [0. 0. 1.]\n",
            " [0. 0. 1.]\n",
            " [0. 0. 1.]\n",
            " [0. 0. 1.]\n",
            " [0. 0. 1.]\n",
            " [0. 0. 1.]\n",
            " [0. 0. 1.]\n",
            " [0. 0. 1.]\n",
            " [0. 0. 1.]\n",
            " [0. 0. 1.]\n",
            " [0. 0. 1.]\n",
            " [0. 0. 1.]\n",
            " [0. 0. 1.]\n",
            " [0. 0. 1.]\n",
            " [0. 0. 1.]\n",
            " [0. 0. 1.]\n",
            " [0. 0. 1.]\n",
            " [0. 0. 1.]\n",
            " [0. 0. 1.]\n",
            " [0. 0. 1.]\n",
            " [0. 0. 1.]\n",
            " [0. 0. 1.]\n",
            " [0. 0. 1.]\n",
            " [0. 0. 1.]\n",
            " [0. 0. 1.]\n",
            " [0. 0. 1.]\n",
            " [0. 0. 1.]\n",
            " [0. 0. 1.]\n",
            " [0. 0. 1.]\n",
            " [0. 0. 1.]\n",
            " [0. 0. 1.]\n",
            " [0. 0. 1.]\n",
            " [0. 0. 1.]\n",
            " [0. 0. 1.]\n",
            " [0. 0. 1.]\n",
            " [0. 0. 1.]\n",
            " [0. 0. 1.]\n",
            " [0. 0. 1.]\n",
            " [0. 0. 1.]\n",
            " [0. 0. 1.]\n",
            " [0. 0. 1.]\n",
            " [0. 0. 1.]\n",
            " [0. 0. 1.]]\n"
          ]
        }
      ]
    },
    {
      "cell_type": "code",
      "source": [
        "X_train,X_test,y_train,y_test=train_test_split(X,y,test_size=0.2,random_state=42)\n",
        "scaler=StandardScaler()\n",
        "X_train=scaler.fit_transform(X_train)\n",
        "X_test=scaler.transform(X_test)\n",
        "\n",
        "print(X_train.shape)\n",
        "print(y_train.shape)"
      ],
      "metadata": {
        "colab": {
          "base_uri": "https://localhost:8080/"
        },
        "id": "H06edFEy_Np0",
        "outputId": "98088b71-2532-47d7-e2aa-94d2303bc64b"
      },
      "execution_count": 13,
      "outputs": [
        {
          "output_type": "stream",
          "name": "stdout",
          "text": [
            "(120, 4)\n",
            "(120, 3)\n"
          ]
        }
      ]
    },
    {
      "cell_type": "code",
      "source": [
        "#neural network\n",
        "def init__params(input_dim,hidden_layer1,hidden_layer2,output_dim,random_key):\n",
        "  random_keys=jax.random.split(random_key,3)\n",
        "  w1=jax.random.normal(random_keys[0],(input_dim,hidden_layer1))\n",
        "  b1=jnp.zeros((1,hidden_layer1))\n",
        "  w2=jax.random.normal(random_keys[1],(hidden_layer1,hidden_layer2))\n",
        "  b2=jnp.zeros((1,hidden_layer2))\n",
        "  w3=jax.random.normal(random_keys[2],(hidden_layer2,output_dim))\n",
        "  b3=jnp.zeros((1,output_dim))\n",
        "\n",
        "  return w1,b1,w2,b2,w3,b3\n",
        "\n",
        "\n"
      ],
      "metadata": {
        "id": "FGWgaWiOBGo6"
      },
      "execution_count": 14,
      "outputs": []
    },
    {
      "cell_type": "code",
      "source": [
        "#defining the forward pass\n",
        "def forward_pass(params,X):\n",
        "  w1,b1,w2,b2,w3,b3=params\n",
        "\n",
        "  h1=jax.nn.relu(jnp.dot(X,w1)+b1)\n",
        "  h2=jax.nn.relu(jnp.dot(h1,w2)+b2)\n",
        "  logits=jnp.dot(h2,w3)+b3\n",
        "\n",
        "  return logits\n",
        "\n",
        "\n",
        "\n",
        "\n"
      ],
      "metadata": {
        "id": "g-ARul8pG4q_"
      },
      "execution_count": 15,
      "outputs": []
    },
    {
      "cell_type": "code",
      "source": [
        "#defining the loss function\n",
        "def loss_function(params,X,y,l2reg=0.0001):\n",
        "\n",
        "  logits=forward_pass(params,X)\n",
        "  probs=jax.nn.softmax(logits)\n",
        "  l2_loss=l2reg*(jnp.sum(jnp.square(params[0]))+jnp.sum(jnp.square(params[2]))+jnp.sum(jnp.square(params[4])))\n",
        "  return -jnp.mean(jnp.sum(y*jnp.log(probs+1e-8),axis=1))+l2_loss #cross entropy loss\n",
        "\n",
        "\n",
        "\n",
        "\n",
        ""
      ],
      "metadata": {
        "id": "76L2Gp3AKNKl"
      },
      "execution_count": 17,
      "outputs": []
    },
    {
      "cell_type": "code",
      "source": [
        "#training step\n",
        "\n",
        "@jax.jit\n",
        "def training_step(params,x,y,lr):\n",
        "  grads=jax.grad(loss_function)(params,x,y)\n",
        "  return [(param-lr*grad) for param,grad in zip(params,grads)]\n",
        "\n"
      ],
      "metadata": {
        "id": "-UhG6WhzL86Y"
      },
      "execution_count": 23,
      "outputs": []
    },
    {
      "cell_type": "code",
      "source": [
        "#accuracy\n",
        "def accuracy(params,x,y):\n",
        "  preds=jnp.argmax(forward_pass(params,x),axis=1)\n",
        "  targets=jnp.argmax(y,axis=1)\n",
        "  return jnp.mean(preds==targets)\n",
        "\n"
      ],
      "metadata": {
        "id": "ZqZaTwKjVbdi"
      },
      "execution_count": 24,
      "outputs": []
    },
    {
      "cell_type": "code",
      "source": [
        "def data_loader(X,y,batch_size):\n",
        "  for i in range(0,len(X),batch_size):\n",
        "    yield X[i:i+batch_size],y[i:i+batch_size]"
      ],
      "metadata": {
        "id": "vYXiOmBbVabK"
      },
      "execution_count": 31,
      "outputs": []
    },
    {
      "cell_type": "code",
      "source": [
        "random_key=jax.random.key(int(time.time()))\n",
        "input_dim=X_train.shape[1]\n",
        "hidden_layer1=16\n",
        "hidden_layer2=8\n",
        "output_dim=y_train.shape[1]\n",
        "learning_rate=0.005\n",
        "batch_size=16\n",
        "epochs=200\n"
      ],
      "metadata": {
        "id": "TYgqVSSPY6y5"
      },
      "execution_count": 27,
      "outputs": []
    },
    {
      "cell_type": "code",
      "source": [
        "params=init__params(input_dim,hidden_layer1,hidden_layer2,output_dim,random_key)\n",
        "train_accs, test_accs, train_losses, test_losses = [], [], [], []\n",
        "\n",
        "for epoch in range(epochs):\n",
        "    for X_batch, y_batch in data_loader(X_train, y_train, batch_size):\n",
        "        params = training_step(params, X_batch, y_batch, learning_rate)\n",
        "\n",
        "    # After each epoch, compute metrics\n",
        "    train_acc = accuracy(params, X_train, y_train)\n",
        "    test_acc = accuracy(params, X_test, y_test)\n",
        "    train_loss = loss_function(params, X_train, y_train)\n",
        "    test_loss = loss_function(params, X_test, y_test)\n",
        "\n",
        "    # Store them for plotting later\n",
        "    train_accs.append(float(train_acc))\n",
        "    test_accs.append(float(test_acc))\n",
        "    train_losses.append(float(train_loss))\n",
        "    test_losses.append(float(test_loss))\n",
        "\n",
        "    # Print progress\n",
        "    if epoch % 10 == 0:\n",
        "        print(f\"Epoch {epoch:03d} | Train Acc: {train_acc:.4f} | Test Acc: {test_acc:.4f} | Train Loss: {train_loss:.4f}\")\n"
      ],
      "metadata": {
        "colab": {
          "base_uri": "https://localhost:8080/"
        },
        "collapsed": true,
        "id": "EoIjJ0EUZVUz",
        "outputId": "278ccbb7-9e16-400d-8c77-3a1f141bd20e"
      },
      "execution_count": 35,
      "outputs": [
        {
          "output_type": "stream",
          "name": "stdout",
          "text": [
            "Epoch 000 | Train Acc: 0.5333 | Test Acc: 0.4667 | Train Loss: 5.1869\n",
            "Epoch 010 | Train Acc: 0.9250 | Test Acc: 0.9333 | Train Loss: 0.4078\n",
            "Epoch 020 | Train Acc: 0.9167 | Test Acc: 0.9000 | Train Loss: 0.2976\n",
            "Epoch 030 | Train Acc: 0.9167 | Test Acc: 0.9000 | Train Loss: 0.2345\n",
            "Epoch 040 | Train Acc: 0.9083 | Test Acc: 0.9000 | Train Loss: 0.1905\n",
            "Epoch 050 | Train Acc: 0.9417 | Test Acc: 0.9000 | Train Loss: 0.1557\n",
            "Epoch 060 | Train Acc: 0.9500 | Test Acc: 0.9333 | Train Loss: 0.1309\n",
            "Epoch 070 | Train Acc: 0.9750 | Test Acc: 0.9333 | Train Loss: 0.1158\n",
            "Epoch 080 | Train Acc: 0.9750 | Test Acc: 0.9333 | Train Loss: 0.1056\n",
            "Epoch 090 | Train Acc: 0.9833 | Test Acc: 0.9333 | Train Loss: 0.0975\n",
            "Epoch 100 | Train Acc: 0.9833 | Test Acc: 0.9333 | Train Loss: 0.0915\n",
            "Epoch 110 | Train Acc: 0.9917 | Test Acc: 0.9667 | Train Loss: 0.0868\n",
            "Epoch 120 | Train Acc: 0.9917 | Test Acc: 0.9667 | Train Loss: 0.0828\n",
            "Epoch 130 | Train Acc: 0.9917 | Test Acc: 0.9667 | Train Loss: 0.0793\n",
            "Epoch 140 | Train Acc: 0.9917 | Test Acc: 0.9667 | Train Loss: 0.0766\n",
            "Epoch 150 | Train Acc: 0.9917 | Test Acc: 0.9667 | Train Loss: 0.0743\n",
            "Epoch 160 | Train Acc: 0.9917 | Test Acc: 1.0000 | Train Loss: 0.0723\n",
            "Epoch 170 | Train Acc: 0.9833 | Test Acc: 1.0000 | Train Loss: 0.0704\n",
            "Epoch 180 | Train Acc: 0.9833 | Test Acc: 1.0000 | Train Loss: 0.0688\n",
            "Epoch 190 | Train Acc: 0.9833 | Test Acc: 1.0000 | Train Loss: 0.0673\n"
          ]
        }
      ]
    },
    {
      "cell_type": "code",
      "source": [
        "import matplotlib.pyplot as plt\n",
        "\n",
        "plt.figure(figsize=(10, 4))\n",
        "\n",
        "# Accuracy plot\n",
        "plt.subplot(1, 2, 1)\n",
        "plt.plot(train_accs, label='Train Accuracy', linewidth=2)\n",
        "plt.plot(test_accs, label='Test Accuracy', linewidth=2)\n",
        "plt.xlabel('Epochs')\n",
        "plt.ylabel('Accuracy')\n",
        "plt.title('Accuracy vs Epochs')\n",
        "plt.legend()\n",
        "\n",
        "# Loss plot\n",
        "plt.subplot(1, 2, 2)\n",
        "plt.plot(train_losses, label='Train Loss', linewidth=2)\n",
        "plt.plot(test_losses, label='Test Loss', linewidth=2)\n",
        "plt.xlabel('Epochs')\n",
        "plt.ylabel('Loss')\n",
        "plt.title('Loss vs Epochs')\n",
        "plt.legend()\n",
        "\n",
        "plt.tight_layout()\n",
        "plt.show()\n"
      ],
      "metadata": {
        "colab": {
          "base_uri": "https://localhost:8080/",
          "height": 407
        },
        "id": "Yt72HXeRKC9Z",
        "outputId": "0afdac8d-22dd-45c7-f438-dec7977e9887"
      },
      "execution_count": 36,
      "outputs": [
        {
          "output_type": "display_data",
          "data": {
            "text/plain": [
              "<Figure size 1000x400 with 2 Axes>"
            ],
            "image/png": "[encoded data removed]"
          },
          "metadata": {}
        }
      ]
    },
    {
      "cell_type": "code",
      "source": [
        "print(f\"Final Train Acc: {accuracy(params,X_train,y_train):.4f}\")\n",
        "print(f\"Final Test Acc: {accuracy(params,X_test,y_test):.4f}\")"
      ],
      "metadata": {
        "colab": {
          "base_uri": "https://localhost:8080/"
        },
        "id": "CZddnl4ubM_k",
        "outputId": "fcc293ea-d2e1-429f-9f35-727049f4a890"
      },
      "execution_count": 34,
      "outputs": [
        {
          "output_type": "stream",
          "name": "stdout",
          "text": [
            "Final Train Acc: 0.9833\n",
            "Final Test Acc: 1.0000\n"
          ]
        }
      ]
    },
    {
      "cell_type": "code",
      "source": [],
      "metadata": {
        "id": "r5lEPXq0aWbs"
      },
      "execution_count": null,
      "outputs": []
    }
  ]
}